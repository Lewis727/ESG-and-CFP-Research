{
 "cells": [
  {
   "cell_type": "code",
   "execution_count": null,
   "metadata": {},
   "outputs": [],
   "source": [
    "import pandas as pd\n",
    "import numpy as np"
   ]
  },
  {
   "cell_type": "code",
   "execution_count": null,
   "metadata": {},
   "outputs": [],
   "source": [
    "wind = pd.read_excel('17_20_wind_data(3.20).xlsx')\n",
    "wind.columns = wind.iloc[0]\n",
    "wind = wind[2:]\n",
    "wind.head()"
   ]
  },
  {
   "cell_type": "code",
   "execution_count": null,
   "metadata": {},
   "outputs": [],
   "source": [
    "wind_df = wind.iloc[:,0:7]\n",
    "new_header = wind_df.iloc[0]\n",
    "code = wind_df.columns[1]\n",
    "all_codes = []\n",
    "all_codes.append(code)\n",
    "wind_df = wind_df[1:]\n",
    "wind_df.columns = new_header.values\n",
    "wind_df['code'] = code\n",
    "wind_df.set_index(['Date','code'],inplace = True)\n",
    "for i in range(8,len(wind.columns),8):\n",
    "    tmp_df = wind.iloc[:,i:i+7]\n",
    "    code = tmp_df.columns[1]\n",
    "    all_codes.append(code)\n",
    "    new_header = tmp_df.iloc[0]\n",
    "    tmp_df = tmp_df[1:]\n",
    "    tmp_df.columns = new_header.values\n",
    "    tmp_df['code'] = code\n",
    "    tmp_df.set_index(['Date','code'],inplace = True)\n",
    "    wind_df = pd.concat([wind_df,tmp_df])"
   ]
  },
  {
   "cell_type": "markdown",
   "metadata": {},
   "source": [
    "#### Now wind_df has two indexes, date (2265 days from 2015/01/01 to 2021/03/14) and company code (377 Chinese A-share companies) "
   ]
  }
 ],
 "metadata": {
  "kernelspec": {
   "display_name": "Python 3",
   "language": "python",
   "name": "python3"
  },
  "language_info": {
   "codemirror_mode": {
    "name": "ipython",
    "version": 3
   },
   "file_extension": ".py",
   "mimetype": "text/x-python",
   "name": "python",
   "nbconvert_exporter": "python",
   "pygments_lexer": "ipython3",
   "version": "3.8.5"
  }
 },
 "nbformat": 4,
 "nbformat_minor": 4
}
