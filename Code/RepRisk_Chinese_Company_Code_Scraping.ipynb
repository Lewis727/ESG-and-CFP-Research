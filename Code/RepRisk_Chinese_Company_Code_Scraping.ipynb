{
  "nbformat": 4,
  "nbformat_minor": 0,
  "metadata": {
    "colab": {
      "name": "RepRisk Chinese Company Code Scraping.ipynb",
      "provenance": [],
      "collapsed_sections": [],
      "toc_visible": true
    },
    "kernelspec": {
      "display_name": "Python 3",
      "name": "python3"
    }
  },
  "cells": [
    {
      "cell_type": "code",
      "metadata": {
        "id": "iLAEoWKreefH"
      },
      "source": [
        "import requests\n",
        "from bs4 import BeautifulSoup\n",
        "import pandas as pd\n",
        "import numpy as np"
      ],
      "execution_count": null,
      "outputs": []
    },
    {
      "cell_type": "code",
      "metadata": {
        "id": "eY5w-tBAfC70"
      },
      "source": [
        "data = pd.read_csv('RR_company.csv',encoding='latin-1')\n",
        "cn = list(data[data['headquarter_country']=='China']['name'])"
      ],
      "execution_count": null,
      "outputs": []
    },
    {
      "cell_type": "markdown",
      "metadata": {
        "id": "GBL2IYOKs5gw"
      },
      "source": [
        "Some names are accompanied with their former names, which may result in unsuccessful webscraping, so all content within the parentheses are removed."
      ]
    },
    {
      "cell_type": "code",
      "metadata": {
        "id": "vJ0K_tUUtPT7"
      },
      "source": [
        "for i in range(len(cn)):\n",
        "  if '(' in cn[i]:\n",
        "    idx_beg = cn[i].find('(')\n",
        "    cn[i] = cn[i][:idx_beg]\n",
        "\n",
        "print(cn)"
      ],
      "execution_count": null,
      "outputs": []
    },
    {
      "cell_type": "markdown",
      "metadata": {
        "id": "ol21MpEAPT64"
      },
      "source": [
        "### Start scraping"
      ]
    },
    {
      "cell_type": "code",
      "metadata": {
        "colab": {
          "base_uri": "https://localhost:8080/"
        },
        "id": "rE39-5GLXLjh",
        "outputId": "91b3dd84-256f-404c-bb3f-e06c683c767a"
      },
      "source": [
        "### uncomment the commands below if selenium is not installed\n",
        "# !pip install selenium\n",
        "# !apt-get update \n",
        "# !apt install chromium-chromedriver\n",
        "\n",
        "from selenium import webdriver\n",
        "chrome_options = webdriver.ChromeOptions()\n",
        "chrome_options.add_argument('--headless')\n",
        "chrome_options.add_argument('--no-sandbox')\n",
        "chrome_options.add_argument('--disable-dev-shm-usage')\n",
        "wd = webdriver.Chrome('chromedriver',chrome_options=chrome_options)\n",
        "driver =webdriver.Chrome('chromedriver',chrome_options=chrome_options)\n",
        "\n",
        "from selenium.webdriver.common.keys import Keys\n",
        "from selenium.webdriver.common.by import By\n",
        "from selenium.webdriver.chrome.options import Options\n",
        "from selenium.webdriver.support import expected_conditions as EC\n",
        "from selenium.webdriver.support.ui import WebDriverWait"
      ],
      "execution_count": null,
      "outputs": [
        {
          "output_type": "stream",
          "text": [
            "Collecting selenium\n",
            "\u001b[?25l  Downloading https://files.pythonhosted.org/packages/80/d6/4294f0b4bce4de0abf13e17190289f9d0613b0a44e5dd6a7f5ca98459853/selenium-3.141.0-py2.py3-none-any.whl (904kB)\n",
            "\r\u001b[K     |▍                               | 10kB 24.2MB/s eta 0:00:01\r\u001b[K     |▊                               | 20kB 23.9MB/s eta 0:00:01\r\u001b[K     |█                               | 30kB 12.1MB/s eta 0:00:01\r\u001b[K     |█▌                              | 40kB 9.7MB/s eta 0:00:01\r\u001b[K     |█▉                              | 51kB 8.0MB/s eta 0:00:01\r\u001b[K     |██▏                             | 61kB 7.6MB/s eta 0:00:01\r\u001b[K     |██▌                             | 71kB 8.5MB/s eta 0:00:01\r\u001b[K     |███                             | 81kB 9.3MB/s eta 0:00:01\r\u001b[K     |███▎                            | 92kB 8.1MB/s eta 0:00:01\r\u001b[K     |███▋                            | 102kB 7.6MB/s eta 0:00:01\r\u001b[K     |████                            | 112kB 7.6MB/s eta 0:00:01\r\u001b[K     |████▍                           | 122kB 7.6MB/s eta 0:00:01\r\u001b[K     |████▊                           | 133kB 7.6MB/s eta 0:00:01\r\u001b[K     |█████                           | 143kB 7.6MB/s eta 0:00:01\r\u001b[K     |█████▍                          | 153kB 7.6MB/s eta 0:00:01\r\u001b[K     |█████▉                          | 163kB 7.6MB/s eta 0:00:01\r\u001b[K     |██████▏                         | 174kB 7.6MB/s eta 0:00:01\r\u001b[K     |██████▌                         | 184kB 7.6MB/s eta 0:00:01\r\u001b[K     |██████▉                         | 194kB 7.6MB/s eta 0:00:01\r\u001b[K     |███████▎                        | 204kB 7.6MB/s eta 0:00:01\r\u001b[K     |███████▋                        | 215kB 7.6MB/s eta 0:00:01\r\u001b[K     |████████                        | 225kB 7.6MB/s eta 0:00:01\r\u001b[K     |████████▎                       | 235kB 7.6MB/s eta 0:00:01\r\u001b[K     |████████▊                       | 245kB 7.6MB/s eta 0:00:01\r\u001b[K     |█████████                       | 256kB 7.6MB/s eta 0:00:01\r\u001b[K     |█████████▍                      | 266kB 7.6MB/s eta 0:00:01\r\u001b[K     |█████████▉                      | 276kB 7.6MB/s eta 0:00:01\r\u001b[K     |██████████▏                     | 286kB 7.6MB/s eta 0:00:01\r\u001b[K     |██████████▌                     | 296kB 7.6MB/s eta 0:00:01\r\u001b[K     |██████████▉                     | 307kB 7.6MB/s eta 0:00:01\r\u001b[K     |███████████▎                    | 317kB 7.6MB/s eta 0:00:01\r\u001b[K     |███████████▋                    | 327kB 7.6MB/s eta 0:00:01\r\u001b[K     |████████████                    | 337kB 7.6MB/s eta 0:00:01\r\u001b[K     |████████████▎                   | 348kB 7.6MB/s eta 0:00:01\r\u001b[K     |████████████▊                   | 358kB 7.6MB/s eta 0:00:01\r\u001b[K     |█████████████                   | 368kB 7.6MB/s eta 0:00:01\r\u001b[K     |█████████████▍                  | 378kB 7.6MB/s eta 0:00:01\r\u001b[K     |█████████████▊                  | 389kB 7.6MB/s eta 0:00:01\r\u001b[K     |██████████████▏                 | 399kB 7.6MB/s eta 0:00:01\r\u001b[K     |██████████████▌                 | 409kB 7.6MB/s eta 0:00:01\r\u001b[K     |██████████████▉                 | 419kB 7.6MB/s eta 0:00:01\r\u001b[K     |███████████████▏                | 430kB 7.6MB/s eta 0:00:01\r\u001b[K     |███████████████▋                | 440kB 7.6MB/s eta 0:00:01\r\u001b[K     |████████████████                | 450kB 7.6MB/s eta 0:00:01\r\u001b[K     |████████████████▎               | 460kB 7.6MB/s eta 0:00:01\r\u001b[K     |████████████████▋               | 471kB 7.6MB/s eta 0:00:01\r\u001b[K     |█████████████████               | 481kB 7.6MB/s eta 0:00:01\r\u001b[K     |█████████████████▍              | 491kB 7.6MB/s eta 0:00:01\r\u001b[K     |█████████████████▊              | 501kB 7.6MB/s eta 0:00:01\r\u001b[K     |██████████████████▏             | 512kB 7.6MB/s eta 0:00:01\r\u001b[K     |██████████████████▌             | 522kB 7.6MB/s eta 0:00:01\r\u001b[K     |██████████████████▉             | 532kB 7.6MB/s eta 0:00:01\r\u001b[K     |███████████████████▏            | 542kB 7.6MB/s eta 0:00:01\r\u001b[K     |███████████████████▋            | 552kB 7.6MB/s eta 0:00:01\r\u001b[K     |████████████████████            | 563kB 7.6MB/s eta 0:00:01\r\u001b[K     |████████████████████▎           | 573kB 7.6MB/s eta 0:00:01\r\u001b[K     |████████████████████▋           | 583kB 7.6MB/s eta 0:00:01\r\u001b[K     |█████████████████████           | 593kB 7.6MB/s eta 0:00:01\r\u001b[K     |█████████████████████▍          | 604kB 7.6MB/s eta 0:00:01\r\u001b[K     |█████████████████████▊          | 614kB 7.6MB/s eta 0:00:01\r\u001b[K     |██████████████████████          | 624kB 7.6MB/s eta 0:00:01\r\u001b[K     |██████████████████████▌         | 634kB 7.6MB/s eta 0:00:01\r\u001b[K     |██████████████████████▉         | 645kB 7.6MB/s eta 0:00:01\r\u001b[K     |███████████████████████▏        | 655kB 7.6MB/s eta 0:00:01\r\u001b[K     |███████████████████████▌        | 665kB 7.6MB/s eta 0:00:01\r\u001b[K     |████████████████████████        | 675kB 7.6MB/s eta 0:00:01\r\u001b[K     |████████████████████████▎       | 686kB 7.6MB/s eta 0:00:01\r\u001b[K     |████████████████████████▋       | 696kB 7.6MB/s eta 0:00:01\r\u001b[K     |█████████████████████████       | 706kB 7.6MB/s eta 0:00:01\r\u001b[K     |█████████████████████████▍      | 716kB 7.6MB/s eta 0:00:01\r\u001b[K     |█████████████████████████▊      | 727kB 7.6MB/s eta 0:00:01\r\u001b[K     |██████████████████████████      | 737kB 7.6MB/s eta 0:00:01\r\u001b[K     |██████████████████████████▍     | 747kB 7.6MB/s eta 0:00:01\r\u001b[K     |██████████████████████████▉     | 757kB 7.6MB/s eta 0:00:01\r\u001b[K     |███████████████████████████▏    | 768kB 7.6MB/s eta 0:00:01\r\u001b[K     |███████████████████████████▌    | 778kB 7.6MB/s eta 0:00:01\r\u001b[K     |████████████████████████████    | 788kB 7.6MB/s eta 0:00:01\r\u001b[K     |████████████████████████████▎   | 798kB 7.6MB/s eta 0:00:01\r\u001b[K     |████████████████████████████▋   | 808kB 7.6MB/s eta 0:00:01\r\u001b[K     |█████████████████████████████   | 819kB 7.6MB/s eta 0:00:01\r\u001b[K     |█████████████████████████████▍  | 829kB 7.6MB/s eta 0:00:01\r\u001b[K     |█████████████████████████████▊  | 839kB 7.6MB/s eta 0:00:01\r\u001b[K     |██████████████████████████████  | 849kB 7.6MB/s eta 0:00:01\r\u001b[K     |██████████████████████████████▍ | 860kB 7.6MB/s eta 0:00:01\r\u001b[K     |██████████████████████████████▉ | 870kB 7.6MB/s eta 0:00:01\r\u001b[K     |███████████████████████████████▏| 880kB 7.6MB/s eta 0:00:01\r\u001b[K     |███████████████████████████████▌| 890kB 7.6MB/s eta 0:00:01\r\u001b[K     |███████████████████████████████▉| 901kB 7.6MB/s eta 0:00:01\r\u001b[K     |████████████████████████████████| 911kB 7.6MB/s \n",
            "\u001b[?25hRequirement already satisfied: urllib3 in /usr/local/lib/python3.6/dist-packages (from selenium) (1.24.3)\n",
            "Installing collected packages: selenium\n",
            "Successfully installed selenium-3.141.0\n",
            "Get:1 https://cloud.r-project.org/bin/linux/ubuntu bionic-cran40/ InRelease [3,626 B]\n",
            "Ign:2 https://developer.download.nvidia.com/compute/cuda/repos/ubuntu1804/x86_64  InRelease\n",
            "Ign:3 https://developer.download.nvidia.com/compute/machine-learning/repos/ubuntu1804/x86_64  InRelease\n",
            "Get:4 https://developer.download.nvidia.com/compute/cuda/repos/ubuntu1804/x86_64  Release [697 B]\n",
            "Hit:5 https://developer.download.nvidia.com/compute/machine-learning/repos/ubuntu1804/x86_64  Release\n",
            "Get:6 https://developer.download.nvidia.com/compute/cuda/repos/ubuntu1804/x86_64  Release.gpg [836 B]\n",
            "Get:7 http://security.ubuntu.com/ubuntu bionic-security InRelease [88.7 kB]\n",
            "Hit:8 http://archive.ubuntu.com/ubuntu bionic InRelease\n",
            "Get:10 http://ppa.launchpad.net/c2d4u.team/c2d4u4.0+/ubuntu bionic InRelease [15.9 kB]\n",
            "Get:11 http://archive.ubuntu.com/ubuntu bionic-updates InRelease [88.7 kB]\n",
            "Ign:12 https://developer.download.nvidia.com/compute/cuda/repos/ubuntu1804/x86_64  Packages\n",
            "Get:12 https://developer.download.nvidia.com/compute/cuda/repos/ubuntu1804/x86_64  Packages [548 kB]\n",
            "Hit:13 http://ppa.launchpad.net/cran/libgit2/ubuntu bionic InRelease\n",
            "Get:14 http://archive.ubuntu.com/ubuntu bionic-backports InRelease [74.6 kB]\n",
            "Hit:15 http://ppa.launchpad.net/graphics-drivers/ppa/ubuntu bionic InRelease\n",
            "Get:16 http://security.ubuntu.com/ubuntu bionic-security/universe amd64 Packages [1,381 kB]\n",
            "Get:17 http://ppa.launchpad.net/c2d4u.team/c2d4u4.0+/ubuntu bionic/main Sources [1,715 kB]\n",
            "Get:18 http://archive.ubuntu.com/ubuntu bionic-updates/multiverse amd64 Packages [42.3 kB]\n",
            "Get:19 http://archive.ubuntu.com/ubuntu bionic-updates/restricted amd64 Packages [314 kB]\n",
            "Get:20 http://security.ubuntu.com/ubuntu bionic-security/main amd64 Packages [1,890 kB]\n",
            "Get:21 http://archive.ubuntu.com/ubuntu bionic-updates/main amd64 Packages [2,318 kB]\n",
            "Get:22 http://security.ubuntu.com/ubuntu bionic-security/multiverse amd64 Packages [35.5 kB]\n",
            "Get:23 http://archive.ubuntu.com/ubuntu bionic-updates/universe amd64 Packages [2,148 kB]\n",
            "Get:24 http://ppa.launchpad.net/c2d4u.team/c2d4u4.0+/ubuntu bionic/main amd64 Packages [878 kB]\n",
            "Fetched 11.5 MB in 4s (3,231 kB/s)\n",
            "Reading package lists... Done\n",
            "Reading package lists... Done\n",
            "Building dependency tree       \n",
            "Reading state information... Done\n",
            "The following additional packages will be installed:\n",
            "  chromium-browser chromium-browser-l10n chromium-codecs-ffmpeg-extra\n",
            "Suggested packages:\n",
            "  webaccounts-chromium-extension unity-chromium-extension adobe-flashplugin\n",
            "The following NEW packages will be installed:\n",
            "  chromium-browser chromium-browser-l10n chromium-chromedriver\n",
            "  chromium-codecs-ffmpeg-extra\n",
            "0 upgraded, 4 newly installed, 0 to remove and 51 not upgraded.\n",
            "Need to get 81.0 MB of archives.\n",
            "After this operation, 273 MB of additional disk space will be used.\n",
            "Get:1 http://archive.ubuntu.com/ubuntu bionic-updates/universe amd64 chromium-codecs-ffmpeg-extra amd64 87.0.4280.66-0ubuntu0.18.04.1 [1,122 kB]\n",
            "Get:2 http://archive.ubuntu.com/ubuntu bionic-updates/universe amd64 chromium-browser amd64 87.0.4280.66-0ubuntu0.18.04.1 [71.7 MB]\n",
            "Get:3 http://archive.ubuntu.com/ubuntu bionic-updates/universe amd64 chromium-browser-l10n all 87.0.4280.66-0ubuntu0.18.04.1 [3,716 kB]\n",
            "Get:4 http://archive.ubuntu.com/ubuntu bionic-updates/universe amd64 chromium-chromedriver amd64 87.0.4280.66-0ubuntu0.18.04.1 [4,488 kB]\n",
            "Fetched 81.0 MB in 5s (15.2 MB/s)\n",
            "Selecting previously unselected package chromium-codecs-ffmpeg-extra.\n",
            "(Reading database ... 146364 files and directories currently installed.)\n",
            "Preparing to unpack .../chromium-codecs-ffmpeg-extra_87.0.4280.66-0ubuntu0.18.04.1_amd64.deb ...\n",
            "Unpacking chromium-codecs-ffmpeg-extra (87.0.4280.66-0ubuntu0.18.04.1) ...\n",
            "Selecting previously unselected package chromium-browser.\n",
            "Preparing to unpack .../chromium-browser_87.0.4280.66-0ubuntu0.18.04.1_amd64.deb ...\n",
            "Unpacking chromium-browser (87.0.4280.66-0ubuntu0.18.04.1) ...\n",
            "Selecting previously unselected package chromium-browser-l10n.\n",
            "Preparing to unpack .../chromium-browser-l10n_87.0.4280.66-0ubuntu0.18.04.1_all.deb ...\n",
            "Unpacking chromium-browser-l10n (87.0.4280.66-0ubuntu0.18.04.1) ...\n",
            "Selecting previously unselected package chromium-chromedriver.\n",
            "Preparing to unpack .../chromium-chromedriver_87.0.4280.66-0ubuntu0.18.04.1_amd64.deb ...\n",
            "Unpacking chromium-chromedriver (87.0.4280.66-0ubuntu0.18.04.1) ...\n",
            "Setting up chromium-codecs-ffmpeg-extra (87.0.4280.66-0ubuntu0.18.04.1) ...\n",
            "Setting up chromium-browser (87.0.4280.66-0ubuntu0.18.04.1) ...\n",
            "update-alternatives: using /usr/bin/chromium-browser to provide /usr/bin/x-www-browser (x-www-browser) in auto mode\n",
            "update-alternatives: using /usr/bin/chromium-browser to provide /usr/bin/gnome-www-browser (gnome-www-browser) in auto mode\n",
            "Setting up chromium-chromedriver (87.0.4280.66-0ubuntu0.18.04.1) ...\n",
            "Setting up chromium-browser-l10n (87.0.4280.66-0ubuntu0.18.04.1) ...\n",
            "Processing triggers for hicolor-icon-theme (0.17-2) ...\n",
            "Processing triggers for mime-support (3.60ubuntu1) ...\n",
            "Processing triggers for man-db (2.8.3-2ubuntu0.1) ...\n"
          ],
          "name": "stdout"
        },
        {
          "output_type": "stream",
          "text": [
            "/usr/local/lib/python3.6/dist-packages/ipykernel_launcher.py:10: DeprecationWarning: use options instead of chrome_options\n",
            "  # Remove the CWD from sys.path while we load stuff.\n",
            "/usr/local/lib/python3.6/dist-packages/ipykernel_launcher.py:11: DeprecationWarning: use options instead of chrome_options\n",
            "  # This is added back by InteractiveShellApp.init_path()\n"
          ],
          "name": "stderr"
        }
      ]
    },
    {
      "cell_type": "code",
      "metadata": {
        "id": "-z6J4qI5MFkA"
      },
      "source": [
        "options = Options()\n",
        "options.add_argument(\"start-maximized\")\n",
        "options.add_argument(\"disable-infobars\")\n",
        "options.add_argument(\"--disable-extensions\")"
      ],
      "execution_count": null,
      "outputs": []
    },
    {
      "cell_type": "markdown",
      "metadata": {
        "id": "FW79FqwkOYQw"
      },
      "source": [
        "Since this is implemented on Google Colab and pretty time-consuming, it is safer to break the list of names into chunks and store them to avoid inconvenience caused by runtime limit and other issues."
      ]
    },
    {
      "cell_type": "code",
      "metadata": {
        "id": "oXXQ9Gfmy9Un"
      },
      "source": [
        "def chunks(lst, n):\n",
        "    \"\"\"Yield successive n-sized chunks from lst.\"\"\"\n",
        "    for i in range(0, len(lst), n):\n",
        "        yield lst[i:i + n]\n",
        "name_chunks = list(chunks(cn,100))"
      ],
      "execution_count": null,
      "outputs": []
    },
    {
      "cell_type": "code",
      "metadata": {
        "id": "zj1W0_qBusbG"
      },
      "source": [
        "cnt = 10\n",
        "for chunk in name_chunks[9:]:\n",
        "  dict_code = {}\n",
        "  for name in chunk:\n",
        "    driver =webdriver.Chrome('chromedriver',options=chrome_options)\n",
        "    driver.get('https://finance.yahoo.com/')\n",
        "\n",
        "    WebDriverWait(driver, 5).until(EC.element_to_be_clickable((By.XPATH, \"//input[@name='yfin-usr-qry']\"))).send_keys(name)\n",
        "    try:\n",
        "      yahoo_fin_auto_suggestions = WebDriverWait(driver, 20).until(EC.visibility_of_all_elements_located((By.XPATH, '//*[@id=\"header-search-form\"]/div[2]/div[1]/div/ul[2]/li')))\n",
        "      code = yahoo_fin_auto_suggestions[0].text[:9]\n",
        "      dict_code[name] = code\n",
        "      print(code)\n",
        "    except:\n",
        "      dict_code[name] = 'Code Not Found'\n",
        "    driver.quit()\n",
        "  df = pd.DataFrame(dict_code, index=[0]).T\n",
        "  df.columns = ['code']\n",
        "  df.to_excel('chunk_{}.xlsx'.format(cnt))  \n",
        "  cnt += 1\n"
      ],
      "execution_count": null,
      "outputs": []
    },
    {
      "cell_type": "markdown",
      "metadata": {
        "id": "ewOW4nJlPGuS"
      },
      "source": [
        "### Clean scraped data"
      ]
    },
    {
      "cell_type": "code",
      "metadata": {
        "colab": {
          "base_uri": "https://localhost:8080/",
          "height": 402
        },
        "id": "la-s6-JtPKoK",
        "outputId": "3ede2d89-e74c-4572-f158-44fc64a5946c"
      },
      "source": [
        "df = pd.read_excel('chunk_1.xlsx')\n",
        "df.columns = ['company_name','code']\n",
        "for i in range(2,17):\n",
        "  tmp = pd.read_excel('chunk_{}.xlsx'.format(i))\n",
        "  tmp.columns = ['company_name','code']\n",
        "  df = df.append(tmp, ignore_index=True)\n",
        "df"
      ],
      "execution_count": null,
      "outputs": [
        {
          "output_type": "execute_result",
          "data": {
            "text/html": [
              "<div>\n",
              "<style scoped>\n",
              "    .dataframe tbody tr th:only-of-type {\n",
              "        vertical-align: middle;\n",
              "    }\n",
              "\n",
              "    .dataframe tbody tr th {\n",
              "        vertical-align: top;\n",
              "    }\n",
              "\n",
              "    .dataframe thead th {\n",
              "        text-align: right;\n",
              "    }\n",
              "</style>\n",
              "<table border=\"1\" class=\"dataframe\">\n",
              "  <thead>\n",
              "    <tr style=\"text-align: right;\">\n",
              "      <th></th>\n",
              "      <th>company_name</th>\n",
              "      <th>code</th>\n",
              "    </tr>\n",
              "  </thead>\n",
              "  <tbody>\n",
              "    <tr>\n",
              "      <th>0</th>\n",
              "      <td>Kangmei Pharmaceutical Co Ltd</td>\n",
              "      <td>600518.SS</td>\n",
              "    </tr>\n",
              "    <tr>\n",
              "      <th>1</th>\n",
              "      <td>Jiangsu Xiuqiang Glasswork Co Ltd</td>\n",
              "      <td>300160.SZ</td>\n",
              "    </tr>\n",
              "    <tr>\n",
              "      <th>2</th>\n",
              "      <td>Henan Dayou Energy Co Ltd</td>\n",
              "      <td>600403.SS</td>\n",
              "    </tr>\n",
              "    <tr>\n",
              "      <th>3</th>\n",
              "      <td>Joyvio Agriculture Development Co Ltd</td>\n",
              "      <td>300268.SZ</td>\n",
              "    </tr>\n",
              "    <tr>\n",
              "      <th>4</th>\n",
              "      <td>AAC Technologies Holdings Inc</td>\n",
              "      <td>Edited Tr</td>\n",
              "    </tr>\n",
              "    <tr>\n",
              "      <th>...</th>\n",
              "      <td>...</td>\n",
              "      <td>...</td>\n",
              "    </tr>\n",
              "    <tr>\n",
              "      <th>1560</th>\n",
              "      <td>Beijing Honggao Creative Architectural Design ...</td>\n",
              "      <td>002504.SZ</td>\n",
              "    </tr>\n",
              "    <tr>\n",
              "      <th>1561</th>\n",
              "      <td>Jiangling Motors Corp Ltd</td>\n",
              "      <td>Code Not Found</td>\n",
              "    </tr>\n",
              "    <tr>\n",
              "      <th>1562</th>\n",
              "      <td>Leshi Internet Information &amp; Technology Corp</td>\n",
              "      <td>Code Not Found</td>\n",
              "    </tr>\n",
              "    <tr>\n",
              "      <th>1563</th>\n",
              "      <td>AutoNavi Holdings Ltd</td>\n",
              "      <td>Code Not Found</td>\n",
              "    </tr>\n",
              "    <tr>\n",
              "      <th>1564</th>\n",
              "      <td>Shenzhen Tat Fook Technology Co Ltd</td>\n",
              "      <td>The Fight</td>\n",
              "    </tr>\n",
              "  </tbody>\n",
              "</table>\n",
              "<p>1565 rows × 2 columns</p>\n",
              "</div>"
            ],
            "text/plain": [
              "                                           company_name            code\n",
              "0                         Kangmei Pharmaceutical Co Ltd       600518.SS\n",
              "1                     Jiangsu Xiuqiang Glasswork Co Ltd       300160.SZ\n",
              "2                            Henan Dayou Energy Co Ltd        600403.SS\n",
              "3                Joyvio Agriculture Development Co Ltd        300268.SZ\n",
              "4                        AAC Technologies Holdings Inc        Edited Tr\n",
              "...                                                 ...             ...\n",
              "1560  Beijing Honggao Creative Architectural Design ...       002504.SZ\n",
              "1561                          Jiangling Motors Corp Ltd  Code Not Found\n",
              "1562      Leshi Internet Information & Technology Corp   Code Not Found\n",
              "1563                              AutoNavi Holdings Ltd  Code Not Found\n",
              "1564                Shenzhen Tat Fook Technology Co Ltd       The Fight\n",
              "\n",
              "[1565 rows x 2 columns]"
            ]
          },
          "metadata": {
            "tags": []
          },
          "execution_count": 15
        }
      ]
    },
    {
      "cell_type": "markdown",
      "metadata": {
        "id": "pfh3Mg97bx2E"
      },
      "source": [
        "### Scrape from Google Finance"
      ]
    },
    {
      "cell_type": "code",
      "metadata": {
        "id": "D_EllNmJVFWV"
      },
      "source": [
        "import time # WebDriverWait is actually a much better alternative but this does the job"
      ],
      "execution_count": null,
      "outputs": []
    },
    {
      "cell_type": "code",
      "metadata": {
        "id": "r75YF2uyRTLW"
      },
      "source": [
        "for i in range(1,17):\n",
        "  tmp_df = pd.read_excel('chunk_{}.xlsx'.format(i))\n",
        "  tmp_df.columns = ['company_name','code']\n",
        "  dict_code = {}\n",
        "  for j in range(len(tmp_df)):\n",
        "    code = tmp_df['code'].iloc[j]\n",
        "    company = tmp_df['company_name'].iloc[j]\n",
        "\n",
        "    if code[-2:] == 'SZ' or code[-2:] == 'SS':\n",
        "       dict_code[company] = code\n",
        "    else:\n",
        "      try:\n",
        "        driver = webdriver.Chrome('chromedriver',options=chrome_options)\n",
        "        driver.get('https://google.com/finance')  \n",
        "        search = driver.find_element_by_xpath('//*[@id=\"search-bar\"]')\n",
        "        search.send_keys(company)\n",
        "        search.send_keys(Keys.RETURN)\n",
        "        time.sleep(1.5) \n",
        "        new_code = driver.current_url[37:]\n",
        "        dict_code[company] = new_code\n",
        "        print(new_code)\n",
        "      except:\n",
        "        dict_code[company] = 'Not Found'\n",
        "    driver.quit()\n",
        "  df = pd.DataFrame(dict_code, index=[0]).T\n",
        "  df.columns = ['code']\n",
        "  df.to_excel('new_chunk_{}.xlsx'.format(i))  \n",
        "  \n",
        "  "
      ],
      "execution_count": null,
      "outputs": []
    },
    {
      "cell_type": "code",
      "metadata": {
        "id": "lg_lzSR32qqD"
      },
      "source": [
        "df = pd.read_excel('new_chunk_1.xlsx')\n",
        "for i in range(2,17):\n",
        "  tmp = pd.read_excel('new_chunk_{}.xlsx'.format(i))\n",
        "  df = df.append(tmp, ignore_index=True)"
      ],
      "execution_count": null,
      "outputs": []
    },
    {
      "cell_type": "code",
      "metadata": {
        "id": "WjEIPPTF3LYn"
      },
      "source": [
        "df.to_excel('full_rr_company.xlsx')"
      ],
      "execution_count": null,
      "outputs": []
    },
    {
      "cell_type": "markdown",
      "metadata": {
        "id": "5wdQGv4mcHhe"
      },
      "source": [
        "Companies that still have no code (cannot find on Google or Yahoo Finance) might need more effort, so I attempted to scrape from MarketScreener but there are still about 200 companies that cannot be matched with a code, and I decided that this is good enough for now.<br>\n",
        "Below is the code used for scraping from MarketScreener."
      ]
    },
    {
      "cell_type": "code",
      "metadata": {
        "id": "zCi0pBbycUUH"
      },
      "source": [
        "scraped_comp = pd.read_excel('full_rr_company.xlsx')\n",
        "# scraped_comp = scraped_comp[['company','code']].set_index('company')"
      ],
      "execution_count": null,
      "outputs": []
    },
    {
      "cell_type": "code",
      "metadata": {
        "id": "1oxG83DdasCg"
      },
      "source": [
        "# dict_code = scraped_comp.to_dict()['code']\n",
        "# dict_code"
      ],
      "execution_count": null,
      "outputs": []
    },
    {
      "cell_type": "code",
      "metadata": {
        "colab": {
          "base_uri": "https://localhost:8080/"
        },
        "id": "shp8FJWvcqFX",
        "outputId": "80b7514d-b6b3-44e3-f0fc-49a9d662a8bd"
      },
      "source": [
        "# cnt=0\n",
        "# for comp, code in dict_code.items():\n",
        "#   if type(code)!=str :\n",
        "#     cnt+=1\n",
        "# print('There are still {} companies with no code'.format(cnt))\n",
        "# scrape.head()"
      ],
      "execution_count": null,
      "outputs": [
        {
          "output_type": "stream",
          "text": [
            "There are still 270 companies with no code\n"
          ],
          "name": "stdout"
        }
      ]
    },
    {
      "cell_type": "code",
      "metadata": {
        "id": "td8vvQbIcKzL"
      },
      "source": [
        "# cnt = 0\n",
        "# for comp, code in dict_code.items():\n",
        "#   cnt += 1\n",
        "#   print(cnt)\n",
        "#   if type(code)!=str:\n",
        "#     try:\n",
        "#       print(comp)\n",
        "#       driver = webdriver.Chrome('chromedriver',options=chrome_options)\n",
        "#       driver.get('https://www.marketscreener.com/')  \n",
        "#       search = driver.find_element_by_xpath('//*[@id=\"autocomplete\"]')\n",
        "#       search.send_keys(comp)\n",
        "#       search.send_keys(Keys.RETURN)\n",
        "#       result = WebDriverWait(driver,5).until(EC.presence_of_element_located((By.XPATH,'//*[@id=\"ALNI0\"]/tbody/tr[2]/td[1]')))\n",
        "#       new_code = result.text\n",
        "#       exc = driver.find_element_by_xpath('//*[@id=\"ALNI0\"]/tbody/tr[2]/td[7]').text\n",
        "#       if exc.lower()[:5] == 'shang':\n",
        "#         new_code = new_code+'.SH'\n",
        "#       elif exc.lower()[:5] == 'shenz':\n",
        "#         new_code = new_code+'.SZ'\n",
        "#       else:\n",
        "#         new_code = new_code +'.'+ exc\n",
        "#       dict_code[comp] = new_code\n",
        "#       print(new_code)\n",
        "#     except:\n",
        "#       continue"
      ],
      "execution_count": null,
      "outputs": []
    },
    {
      "cell_type": "markdown",
      "metadata": {
        "id": "ctWiRt3tBYtF"
      },
      "source": [
        "### Add the scraped code as a new column to the original RepRisk data"
      ]
    },
    {
      "cell_type": "code",
      "metadata": {
        "colab": {
          "base_uri": "https://localhost:8080/"
        },
        "id": "FTpANoms-vTn",
        "outputId": "de684648-e1b3-4806-d91d-ac5c121f0e5e"
      },
      "source": [
        "rr_company_cn = data[data['headquarter_country']=='China']\n",
        "rr_company_cn['code'] = list(scraped_comp['code'])\n",
        "rr_company_cn.to_csv('RepRisk_Chinese_Companies_info.csv')"
      ],
      "execution_count": null,
      "outputs": [
        {
          "output_type": "stream",
          "text": [
            "/usr/local/lib/python3.6/dist-packages/ipykernel_launcher.py:2: SettingWithCopyWarning: \n",
            "A value is trying to be set on a copy of a slice from a DataFrame.\n",
            "Try using .loc[row_indexer,col_indexer] = value instead\n",
            "\n",
            "See the caveats in the documentation: https://pandas.pydata.org/pandas-docs/stable/user_guide/indexing.html#returning-a-view-versus-a-copy\n",
            "  \n"
          ],
          "name": "stderr"
        }
      ]
    },
    {
      "cell_type": "markdown",
      "metadata": {
        "id": "ekXYWuFuBR5-"
      },
      "source": [
        "### Get intersection"
      ]
    },
    {
      "cell_type": "code",
      "metadata": {
        "id": "i3VBnrbD9ja_"
      },
      "source": [
        "code = scraped_comp['code']"
      ],
      "execution_count": null,
      "outputs": []
    },
    {
      "cell_type": "code",
      "metadata": {
        "colab": {
          "base_uri": "https://localhost:8080/"
        },
        "id": "CZ5aQdTUSZvz",
        "outputId": "ded3a93e-a258-4452-df65-3ae4e272f06d"
      },
      "source": [
        "syntao = pd.read_excel('SynTao_clean.xlsx')\n",
        "st_code = list(syntao.code)\n",
        "def intersection(lst1, lst2): \n",
        "    lst3 = [value for value in lst1 if value in lst2] \n",
        "    return lst3 \n",
        "print('There are {} companies that both RepRisk and Syntao include that can be used for further comparison'.format(len(intersection(code,st_code))))"
      ],
      "execution_count": null,
      "outputs": [
        {
          "output_type": "stream",
          "text": [
            "There are 384 companies that both RepRisk and Syntao include that can be used for further comparison\n"
          ],
          "name": "stdout"
        }
      ]
    }
  ]
}